{
 "cells": [
  {
   "cell_type": "markdown",
   "metadata": {},
   "source": [
    "This will serve as our git repository in order to manage version control"
   ]
  },
  {
   "cell_type": "markdown",
   "metadata": {},
   "source": [
    "Programming Assignment 1 – Fall 2025\n",
    "# 1 Assignment Overview\n",
    "In this assignment, you will be analyzing operations for a bank that processes checks using\n",
    "machines and tellers. You will construct a feasible solution using logical reasoning, set up a\n",
    "linear program to find the optimal solution, and then discuss how using an LP allows you\n",
    "to improve operations for the bank. You will present your analysis as a report for the bank\n",
    "management to read.\n",
    "# 2 Problem Description\n",
    "(Adapted from Winston 3.5.7 – some different data values.) Each hour from 10 am to 7 pm,\n",
    "Bank One receives checks and must process them. Its goal is to process checks the same day\n",
    "they are received. The bank has 11 check processing machines, each of which can process up\n",
    "to 500 checks per hour. It takes one worker to operate each machine. Bank One hires both\n",
    "full time and part time employees. Full time employees work 10 am-6pm, 11am-7pm, or 12pm-\n",
    "8pm, and are paid $160/day. Part time employees work either 2-7 pm or 3-8pm, and are paid\n",
    "$75/day. The number of checks received at the start of each hour is given in the data table on\n",
    "Vocareum. In the interest of maintaining continuity, Bank One believes it must have at least\n",
    "three full-time workers under contract. Formulate a linear program to determine a schedule\n",
    "that minimizes Bank One’s costs.\n",
    "# 3 Vocareum Requirements\n",
    "• Implement the linear program that you formulate (see Section 4) in Vocareum in the\n",
    "Jupyter Notebook PA1 tosubmit.ipynb.\n",
    "• Save the optimal objective value to opt obj val (the autograder will check to see if it is\n",
    "correct).\n",
    "• You need to use the Gurobi model in order to answer questions in the report, but those\n",
    "answers don’t need to be saved in the submitted report. Instead, use the extra .ipynb or\n",
    ".py files for scratch work. You can print the values or save to a file, for use in your report.\n",
    "# 4 Report Requirements\n",
    "The report should be typed. Microsoft Word or Latex can be used.\n",
    "• Cover Page with all Teammate Names\n",
    "## • Section 1 – Linear Program optimizing Bank One operations. Be sure to describe \n",
    "decision variables, objective, and constraint in words. Note: Your LP should include all\n",
    "constraints, including constraints that may be redundant for these particular data values.\n",
    "The LP should model the requirements of Bank One in such a way that if the data values\n",
    "changed, we could update the numbers but still use the model.\n",
    "## • Section 2 – Optimal Solution and Optimal Objective Value\n",
    "1\n",
    "(a) Give the values of each decision variable in your optimal solution. (Do not list\n",
    "variables whose value is 0 in the optimal solution. If a variable is not listed, we will\n",
    "assume the value is 0.)\n",
    "(b) Describe the operational plan associated with this optimal solution in a way that\n",
    "the bank manager can understand.\n",
    "(c) Say what conditions this operational plan should satisfy, to truly be feasible for Bank\n",
    "One. (You don’t have to show that your solution satisfies these conditions in the\n",
    "report, but we recommend checking! This can help you see if you may have missed\n",
    "a requirement in your constraints.)\n",
    "(d) Give the optimal objective value, and say what this represents.\n",
    "## • Section 3 – Value of the Linear Program, over Heuristic\n",
    "(a) Give a reasonable operation plan that a manager might come up with on their own,\n",
    "without use of the linear program. (This should be different than the optimal solution\n",
    "you found.) Describe the plan, and why the manager might think to use that plan.\n",
    "(b) Describe why the operation plan satisfies the requirements for Bank One.\n",
    "(c) Give the objective value associated with this operation plan.\n",
    "(d) Describe how much improvement we see in the objective value, using the optimal\n",
    "solution over the solution that a manager may have come up with.\n",
    "(e) What does it mean to find the optimal solution of an LP? What is the benefit\n",
    "of setting up a problem as an LP and finding the optimal solution, over using a\n",
    "heuristic?\n",
    "2\n"
   ]
  },
  {
   "cell_type": "code",
   "execution_count": null,
   "metadata": {},
   "outputs": [],
   "source": [
    "#Decision Variables:\n",
    "#fi for all full time workers hired in period i, Vall i in 1,...,3 (10am-6pm,11am-7pm,12pm-8pm)\n",
    "#pi for all part time workers hired in period i, Vall i in 1,2 (2pm-7pm,3pm-8pm)\n",
    "#Constraints:\n",
    "#fi >= 3, Vall i\n",
    "#Obj = minimize cost \n",
    "#min 160(f1,f2,f3) + 75(p1,p2) + "
   ]
  }
 ],
 "metadata": {
  "language_info": {
   "name": "python"
  },
  "orig_nbformat": 4
 },
 "nbformat": 4,
 "nbformat_minor": 2
}
